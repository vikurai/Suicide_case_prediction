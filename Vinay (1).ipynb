{
 "cells": [
  {
   "cell_type": "markdown",
   "id": "cd1450db",
   "metadata": {},
   "source": [
    "## Problem Statement\n",
    "- This is a Classification problem in which We have to predict that whether the death is of crude or age-adjusted using different features given in the dataset like estimate, age, year, etc."
   ]
  },
  {
   "cell_type": "markdown",
   "id": "57163e4d",
   "metadata": {},
   "source": [
    "### Importing Libraries"
   ]
  },
  {
   "cell_type": "code",
   "execution_count": 188,
   "id": "9c476695",
   "metadata": {},
   "outputs": [],
   "source": [
    "import warnings\n",
    "warnings.filterwarnings('ignore')\n",
    "\n",
    "import pandas as pd\n",
    "import numpy as np\n",
    "import statsmodels.api as sm\n",
    "from statsmodels.stats.outliers_influence import variance_inflation_factor\n",
    "\n",
    "from sklearn.preprocessing import StandardScaler\n",
    "from sklearn.model_selection import train_test_split\n",
    "from sklearn.linear_model import LogisticRegression\n",
    "from sklearn.metrics import confusion_matrix\n",
    "\n",
    "from scipy.stats import shapiro\n",
    "import seaborn as sns\n",
    "import matplotlib.pyplot as plt\n",
    "%matplotlib inline"
   ]
  },
  {
   "cell_type": "code",
   "execution_count": 24,
   "id": "bfb7073d",
   "metadata": {},
   "outputs": [
    {
     "data": {
      "text/html": [
       "<div>\n",
       "<style scoped>\n",
       "    .dataframe tbody tr th:only-of-type {\n",
       "        vertical-align: middle;\n",
       "    }\n",
       "\n",
       "    .dataframe tbody tr th {\n",
       "        vertical-align: top;\n",
       "    }\n",
       "\n",
       "    .dataframe thead th {\n",
       "        text-align: right;\n",
       "    }\n",
       "</style>\n",
       "<table border=\"1\" class=\"dataframe\">\n",
       "  <thead>\n",
       "    <tr style=\"text-align: right;\">\n",
       "      <th></th>\n",
       "      <th>INDICATOR</th>\n",
       "      <th>UNIT</th>\n",
       "      <th>UNIT_NUM</th>\n",
       "      <th>STUB_NAME</th>\n",
       "      <th>STUB_NAME_NUM</th>\n",
       "      <th>STUB_LABEL</th>\n",
       "      <th>STUB_LABEL_NUM</th>\n",
       "      <th>YEAR</th>\n",
       "      <th>YEAR_NUM</th>\n",
       "      <th>AGE</th>\n",
       "      <th>AGE_NUM</th>\n",
       "      <th>ESTIMATE</th>\n",
       "      <th>FLAG</th>\n",
       "    </tr>\n",
       "  </thead>\n",
       "  <tbody>\n",
       "    <tr>\n",
       "      <th>0</th>\n",
       "      <td>Death rates for suicide</td>\n",
       "      <td>Deaths per 100,000 resident population, age-ad...</td>\n",
       "      <td>1</td>\n",
       "      <td>Total</td>\n",
       "      <td>0</td>\n",
       "      <td>All persons</td>\n",
       "      <td>0.0</td>\n",
       "      <td>1950</td>\n",
       "      <td>1</td>\n",
       "      <td>All ages</td>\n",
       "      <td>0.0</td>\n",
       "      <td>13.2</td>\n",
       "      <td>NaN</td>\n",
       "    </tr>\n",
       "    <tr>\n",
       "      <th>1</th>\n",
       "      <td>Death rates for suicide</td>\n",
       "      <td>Deaths per 100,000 resident population, age-ad...</td>\n",
       "      <td>1</td>\n",
       "      <td>Total</td>\n",
       "      <td>0</td>\n",
       "      <td>All persons</td>\n",
       "      <td>0.0</td>\n",
       "      <td>1960</td>\n",
       "      <td>2</td>\n",
       "      <td>All ages</td>\n",
       "      <td>0.0</td>\n",
       "      <td>12.5</td>\n",
       "      <td>NaN</td>\n",
       "    </tr>\n",
       "    <tr>\n",
       "      <th>2</th>\n",
       "      <td>Death rates for suicide</td>\n",
       "      <td>Deaths per 100,000 resident population, age-ad...</td>\n",
       "      <td>1</td>\n",
       "      <td>Total</td>\n",
       "      <td>0</td>\n",
       "      <td>All persons</td>\n",
       "      <td>0.0</td>\n",
       "      <td>1970</td>\n",
       "      <td>3</td>\n",
       "      <td>All ages</td>\n",
       "      <td>0.0</td>\n",
       "      <td>13.1</td>\n",
       "      <td>NaN</td>\n",
       "    </tr>\n",
       "    <tr>\n",
       "      <th>3</th>\n",
       "      <td>Death rates for suicide</td>\n",
       "      <td>Deaths per 100,000 resident population, age-ad...</td>\n",
       "      <td>1</td>\n",
       "      <td>Total</td>\n",
       "      <td>0</td>\n",
       "      <td>All persons</td>\n",
       "      <td>0.0</td>\n",
       "      <td>1980</td>\n",
       "      <td>4</td>\n",
       "      <td>All ages</td>\n",
       "      <td>0.0</td>\n",
       "      <td>12.2</td>\n",
       "      <td>NaN</td>\n",
       "    </tr>\n",
       "    <tr>\n",
       "      <th>4</th>\n",
       "      <td>Death rates for suicide</td>\n",
       "      <td>Deaths per 100,000 resident population, age-ad...</td>\n",
       "      <td>1</td>\n",
       "      <td>Total</td>\n",
       "      <td>0</td>\n",
       "      <td>All persons</td>\n",
       "      <td>0.0</td>\n",
       "      <td>1981</td>\n",
       "      <td>5</td>\n",
       "      <td>All ages</td>\n",
       "      <td>0.0</td>\n",
       "      <td>12.3</td>\n",
       "      <td>NaN</td>\n",
       "    </tr>\n",
       "  </tbody>\n",
       "</table>\n",
       "</div>"
      ],
      "text/plain": [
       "                 INDICATOR                                               UNIT   \n",
       "0  Death rates for suicide  Deaths per 100,000 resident population, age-ad...  \\\n",
       "1  Death rates for suicide  Deaths per 100,000 resident population, age-ad...   \n",
       "2  Death rates for suicide  Deaths per 100,000 resident population, age-ad...   \n",
       "3  Death rates for suicide  Deaths per 100,000 resident population, age-ad...   \n",
       "4  Death rates for suicide  Deaths per 100,000 resident population, age-ad...   \n",
       "\n",
       "   UNIT_NUM STUB_NAME  STUB_NAME_NUM   STUB_LABEL  STUB_LABEL_NUM  YEAR   \n",
       "0         1     Total              0  All persons             0.0  1950  \\\n",
       "1         1     Total              0  All persons             0.0  1960   \n",
       "2         1     Total              0  All persons             0.0  1970   \n",
       "3         1     Total              0  All persons             0.0  1980   \n",
       "4         1     Total              0  All persons             0.0  1981   \n",
       "\n",
       "   YEAR_NUM       AGE  AGE_NUM  ESTIMATE FLAG  \n",
       "0         1  All ages      0.0      13.2  NaN  \n",
       "1         2  All ages      0.0      12.5  NaN  \n",
       "2         3  All ages      0.0      13.1  NaN  \n",
       "3         4  All ages      0.0      12.2  NaN  \n",
       "4         5  All ages      0.0      12.3  NaN  "
      ]
     },
     "execution_count": 24,
     "metadata": {},
     "output_type": "execute_result"
    }
   ],
   "source": [
    "data = pd.read_csv('Death_rates_for_suicide__by_sex__race__Hispanic_origin__and_age__United_States.csv')\n",
    "data.head()"
   ]
  },
  {
   "cell_type": "code",
   "execution_count": 25,
   "id": "db232ef2",
   "metadata": {},
   "outputs": [
    {
     "data": {
      "text/html": [
       "<div>\n",
       "<style scoped>\n",
       "    .dataframe tbody tr th:only-of-type {\n",
       "        vertical-align: middle;\n",
       "    }\n",
       "\n",
       "    .dataframe tbody tr th {\n",
       "        vertical-align: top;\n",
       "    }\n",
       "\n",
       "    .dataframe thead th {\n",
       "        text-align: right;\n",
       "    }\n",
       "</style>\n",
       "<table border=\"1\" class=\"dataframe\">\n",
       "  <thead>\n",
       "    <tr style=\"text-align: right;\">\n",
       "      <th></th>\n",
       "      <th>indicator</th>\n",
       "      <th>unit</th>\n",
       "      <th>unit_num</th>\n",
       "      <th>stub_name</th>\n",
       "      <th>stub_name_num</th>\n",
       "      <th>stub_label</th>\n",
       "      <th>stub_label_num</th>\n",
       "      <th>year</th>\n",
       "      <th>year_num</th>\n",
       "      <th>age</th>\n",
       "      <th>age_num</th>\n",
       "      <th>estimate</th>\n",
       "      <th>flag</th>\n",
       "    </tr>\n",
       "  </thead>\n",
       "  <tbody>\n",
       "    <tr>\n",
       "      <th>0</th>\n",
       "      <td>Death rates for suicide</td>\n",
       "      <td>Deaths per 100,000 resident population, age-ad...</td>\n",
       "      <td>1</td>\n",
       "      <td>Total</td>\n",
       "      <td>0</td>\n",
       "      <td>All persons</td>\n",
       "      <td>0.0</td>\n",
       "      <td>1950</td>\n",
       "      <td>1</td>\n",
       "      <td>All ages</td>\n",
       "      <td>0.0</td>\n",
       "      <td>13.2</td>\n",
       "      <td>NaN</td>\n",
       "    </tr>\n",
       "    <tr>\n",
       "      <th>1</th>\n",
       "      <td>Death rates for suicide</td>\n",
       "      <td>Deaths per 100,000 resident population, age-ad...</td>\n",
       "      <td>1</td>\n",
       "      <td>Total</td>\n",
       "      <td>0</td>\n",
       "      <td>All persons</td>\n",
       "      <td>0.0</td>\n",
       "      <td>1960</td>\n",
       "      <td>2</td>\n",
       "      <td>All ages</td>\n",
       "      <td>0.0</td>\n",
       "      <td>12.5</td>\n",
       "      <td>NaN</td>\n",
       "    </tr>\n",
       "    <tr>\n",
       "      <th>2</th>\n",
       "      <td>Death rates for suicide</td>\n",
       "      <td>Deaths per 100,000 resident population, age-ad...</td>\n",
       "      <td>1</td>\n",
       "      <td>Total</td>\n",
       "      <td>0</td>\n",
       "      <td>All persons</td>\n",
       "      <td>0.0</td>\n",
       "      <td>1970</td>\n",
       "      <td>3</td>\n",
       "      <td>All ages</td>\n",
       "      <td>0.0</td>\n",
       "      <td>13.1</td>\n",
       "      <td>NaN</td>\n",
       "    </tr>\n",
       "    <tr>\n",
       "      <th>3</th>\n",
       "      <td>Death rates for suicide</td>\n",
       "      <td>Deaths per 100,000 resident population, age-ad...</td>\n",
       "      <td>1</td>\n",
       "      <td>Total</td>\n",
       "      <td>0</td>\n",
       "      <td>All persons</td>\n",
       "      <td>0.0</td>\n",
       "      <td>1980</td>\n",
       "      <td>4</td>\n",
       "      <td>All ages</td>\n",
       "      <td>0.0</td>\n",
       "      <td>12.2</td>\n",
       "      <td>NaN</td>\n",
       "    </tr>\n",
       "    <tr>\n",
       "      <th>4</th>\n",
       "      <td>Death rates for suicide</td>\n",
       "      <td>Deaths per 100,000 resident population, age-ad...</td>\n",
       "      <td>1</td>\n",
       "      <td>Total</td>\n",
       "      <td>0</td>\n",
       "      <td>All persons</td>\n",
       "      <td>0.0</td>\n",
       "      <td>1981</td>\n",
       "      <td>5</td>\n",
       "      <td>All ages</td>\n",
       "      <td>0.0</td>\n",
       "      <td>12.3</td>\n",
       "      <td>NaN</td>\n",
       "    </tr>\n",
       "  </tbody>\n",
       "</table>\n",
       "</div>"
      ],
      "text/plain": [
       "                 indicator                                               unit   \n",
       "0  Death rates for suicide  Deaths per 100,000 resident population, age-ad...  \\\n",
       "1  Death rates for suicide  Deaths per 100,000 resident population, age-ad...   \n",
       "2  Death rates for suicide  Deaths per 100,000 resident population, age-ad...   \n",
       "3  Death rates for suicide  Deaths per 100,000 resident population, age-ad...   \n",
       "4  Death rates for suicide  Deaths per 100,000 resident population, age-ad...   \n",
       "\n",
       "   unit_num stub_name  stub_name_num   stub_label  stub_label_num  year   \n",
       "0         1     Total              0  All persons             0.0  1950  \\\n",
       "1         1     Total              0  All persons             0.0  1960   \n",
       "2         1     Total              0  All persons             0.0  1970   \n",
       "3         1     Total              0  All persons             0.0  1980   \n",
       "4         1     Total              0  All persons             0.0  1981   \n",
       "\n",
       "   year_num       age  age_num  estimate flag  \n",
       "0         1  All ages      0.0      13.2  NaN  \n",
       "1         2  All ages      0.0      12.5  NaN  \n",
       "2         3  All ages      0.0      13.1  NaN  \n",
       "3         4  All ages      0.0      12.2  NaN  \n",
       "4         5  All ages      0.0      12.3  NaN  "
      ]
     },
     "execution_count": 25,
     "metadata": {},
     "output_type": "execute_result"
    }
   ],
   "source": [
    "data.columns = data.columns.str.lower()\n",
    "data.head()"
   ]
  },
  {
   "cell_type": "code",
   "execution_count": 26,
   "id": "0707d367",
   "metadata": {},
   "outputs": [
    {
     "data": {
      "text/plain": [
       "indicator\n",
       "Death rates for suicide    6390\n",
       "Name: count, dtype: int64"
      ]
     },
     "execution_count": 26,
     "metadata": {},
     "output_type": "execute_result"
    }
   ],
   "source": [
    "# checking for INDICATOR counts\n",
    "data.indicator.value_counts()"
   ]
  },
  {
   "cell_type": "code",
   "execution_count": 27,
   "id": "9a5cb3ee",
   "metadata": {},
   "outputs": [
    {
     "data": {
      "text/plain": [
       "unit\n",
       "Deaths per 100,000 resident population, crude           5578\n",
       "Deaths per 100,000 resident population, age-adjusted     812\n",
       "Name: count, dtype: int64"
      ]
     },
     "execution_count": 27,
     "metadata": {},
     "output_type": "execute_result"
    }
   ],
   "source": [
    "# checking for UNIT counts\n",
    "data.unit.value_counts()"
   ]
  },
  {
   "cell_type": "code",
   "execution_count": 28,
   "id": "3a81f158",
   "metadata": {},
   "outputs": [
    {
     "data": {
      "text/plain": [
       "unit_num\n",
       "2    5578\n",
       "1     812\n",
       "Name: count, dtype: int64"
      ]
     },
     "execution_count": 28,
     "metadata": {},
     "output_type": "execute_result"
    }
   ],
   "source": [
    "# checking for UNIT_NUM counts\n",
    "data.unit_num.value_counts()"
   ]
  },
  {
   "cell_type": "markdown",
   "id": "7bf4b513",
   "metadata": {},
   "source": [
    "- As we can see from above that UNIT_NUM is nothing but the numerical reprsentation of UNIT feature"
   ]
  },
  {
   "cell_type": "code",
   "execution_count": 29,
   "id": "79232ba2",
   "metadata": {},
   "outputs": [
    {
     "data": {
      "text/plain": [
       "stub_name\n",
       "Sex, age and race                                      1596\n",
       "Sex, age and race and Hispanic origin                  1328\n",
       "Sex and age                                            1176\n",
       "Sex and race                                            672\n",
       "Sex and race and Hispanic origin                        664\n",
       "Age                                                     588\n",
       "Sex                                                     168\n",
       "Total                                                    84\n",
       "Sex, age and race and Hispanic origin (Single race)      48\n",
       "Sex, age and race (Single race)                          30\n",
       "Sex and race and Hispanic origin (Single race)           24\n",
       "Sex and race (Single race)                               12\n",
       "Name: count, dtype: int64"
      ]
     },
     "execution_count": 29,
     "metadata": {},
     "output_type": "execute_result"
    }
   ],
   "source": [
    "# checking for stub_name counts\n",
    "data.stub_name.value_counts()"
   ]
  },
  {
   "cell_type": "code",
   "execution_count": 30,
   "id": "e190ea4c",
   "metadata": {},
   "outputs": [
    {
     "data": {
      "text/plain": [
       "stub_name_num\n",
       "5     1596\n",
       "7     1328\n",
       "3     1176\n",
       "4      672\n",
       "6      664\n",
       "1      588\n",
       "2      168\n",
       "0       84\n",
       "11      48\n",
       "9       30\n",
       "10      24\n",
       "8       12\n",
       "Name: count, dtype: int64"
      ]
     },
     "execution_count": 30,
     "metadata": {},
     "output_type": "execute_result"
    }
   ],
   "source": [
    "# checking for stub_name_num counts\n",
    "data.stub_name_num.value_counts()"
   ]
  },
  {
   "cell_type": "markdown",
   "id": "d352bf3b",
   "metadata": {},
   "source": [
    "- Here we can look at the value_counts for different columns and found that num columns are nothing but the numerical representation of the columns itself as like stub_name & stub_name_num and stub_label & stub_label_num and so on."
   ]
  },
  {
   "cell_type": "code",
   "execution_count": 38,
   "id": "8bc424fd",
   "metadata": {},
   "outputs": [
    {
     "data": {
      "text/plain": [
       "0       1950\n",
       "1       1960\n",
       "2       1970\n",
       "3       1980\n",
       "4       1981\n",
       "        ... \n",
       "6385    2018\n",
       "6386    2018\n",
       "6387    2018\n",
       "6388    2018\n",
       "6389    2018\n",
       "Name: year, Length: 6390, dtype: category\n",
       "Categories (42, int64): [1950, 1960, 1970, 1980, ..., 2015, 2016, 2017, 2018]"
      ]
     },
     "execution_count": 38,
     "metadata": {},
     "output_type": "execute_result"
    }
   ],
   "source": [
    "# checking for year counts\n",
    "data.year.astype('category')"
   ]
  },
  {
   "cell_type": "code",
   "execution_count": 39,
   "id": "320fb90b",
   "metadata": {},
   "outputs": [
    {
     "data": {
      "text/plain": [
       "0        1\n",
       "1        2\n",
       "2        3\n",
       "3        4\n",
       "4        5\n",
       "        ..\n",
       "6385    42\n",
       "6386    42\n",
       "6387    42\n",
       "6388    42\n",
       "6389    42\n",
       "Name: year_num, Length: 6390, dtype: category\n",
       "Categories (42, int64): [1, 2, 3, 4, ..., 39, 40, 41, 42]"
      ]
     },
     "execution_count": 39,
     "metadata": {},
     "output_type": "execute_result"
    }
   ],
   "source": [
    "# checking for year_num counts\n",
    "data.year_num.astype('category')"
   ]
  },
  {
   "cell_type": "code",
   "execution_count": 40,
   "id": "d218bef3",
   "metadata": {},
   "outputs": [
    {
     "data": {
      "text/plain": [
       "0                All ages\n",
       "1                All ages\n",
       "2                All ages\n",
       "3                All ages\n",
       "4                All ages\n",
       "              ...        \n",
       "6385    65 years and over\n",
       "6386          15-24 years\n",
       "6387          25-44 years\n",
       "6388          45-64 years\n",
       "6389    65 years and over\n",
       "Name: age, Length: 6390, dtype: category\n",
       "Categories (15, object): ['10-14 years', '15-19 years', '15-24 years', '20-24 years', ..., '65-74 years', '75-84 years', '85 years and over', 'All ages']"
      ]
     },
     "execution_count": 40,
     "metadata": {},
     "output_type": "execute_result"
    }
   ],
   "source": [
    "# checking for age counts\n",
    "data.age.astype('category')"
   ]
  },
  {
   "cell_type": "code",
   "execution_count": 41,
   "id": "c020602b",
   "metadata": {
    "scrolled": true
   },
   "outputs": [
    {
     "data": {
      "text/plain": [
       "0       0.0\n",
       "1       0.0\n",
       "2       0.0\n",
       "3       0.0\n",
       "4       0.0\n",
       "       ... \n",
       "6385    5.0\n",
       "6386    2.0\n",
       "6387    3.0\n",
       "6388    4.0\n",
       "6389    5.0\n",
       "Name: age_num, Length: 6390, dtype: category\n",
       "Categories (15, float64): [0.0, 1.0, 2.0, 2.1, ..., 5.0, 5.1, 5.2, 6.0]"
      ]
     },
     "execution_count": 41,
     "metadata": {},
     "output_type": "execute_result"
    }
   ],
   "source": [
    "# checking for age_num counts\n",
    "data.age_num.astype('category')"
   ]
  },
  {
   "cell_type": "code",
   "execution_count": 36,
   "id": "367df06d",
   "metadata": {},
   "outputs": [
    {
     "data": {
      "text/plain": [
       "0       NaN\n",
       "1       NaN\n",
       "2       NaN\n",
       "3       NaN\n",
       "4       NaN\n",
       "       ... \n",
       "6385    NaN\n",
       "6386    NaN\n",
       "6387    NaN\n",
       "6388    NaN\n",
       "6389    NaN\n",
       "Name: flag, Length: 6390, dtype: category\n",
       "Categories (2, object): ['*', '...']"
      ]
     },
     "execution_count": 36,
     "metadata": {},
     "output_type": "execute_result"
    }
   ],
   "source": [
    "# checking for UNIT counts\n",
    "data.flag.astype('category')"
   ]
  },
  {
   "cell_type": "code",
   "execution_count": 33,
   "id": "da4843fe",
   "metadata": {},
   "outputs": [
    {
     "data": {
      "text/plain": [
       "5484"
      ]
     },
     "execution_count": 33,
     "metadata": {},
     "output_type": "execute_result"
    }
   ],
   "source": [
    "data.flag.isnull().sum()"
   ]
  },
  {
   "cell_type": "code",
   "execution_count": 34,
   "id": "7eeaa125",
   "metadata": {},
   "outputs": [
    {
     "data": {
      "text/plain": [
       "(6390, 13)"
      ]
     },
     "execution_count": 34,
     "metadata": {},
     "output_type": "execute_result"
    }
   ],
   "source": [
    "# checking for the shape of the data\n",
    "data.shape"
   ]
  },
  {
   "cell_type": "code",
   "execution_count": 42,
   "id": "3d817097",
   "metadata": {},
   "outputs": [
    {
     "data": {
      "text/plain": [
       "Index(['indicator', 'unit', 'unit_num', 'stub_name', 'stub_name_num',\n",
       "       'stub_label', 'stub_label_num', 'year', 'year_num', 'age', 'age_num',\n",
       "       'estimate', 'flag'],\n",
       "      dtype='object')"
      ]
     },
     "execution_count": 42,
     "metadata": {},
     "output_type": "execute_result"
    }
   ],
   "source": [
    "# checking for columns\n",
    "data.columns"
   ]
  },
  {
   "cell_type": "markdown",
   "id": "ec80965a",
   "metadata": {},
   "source": [
    "- Dropping the columns that are categorical as their numerical representation is already present in the dataset"
   ]
  },
  {
   "cell_type": "code",
   "execution_count": 44,
   "id": "aa052fbe",
   "metadata": {},
   "outputs": [],
   "source": [
    "drop_col = ['indicator', 'unit','stub_name','stub_label','year','age']\n",
    "data.drop(drop_col, axis=1, inplace=True)"
   ]
  },
  {
   "cell_type": "code",
   "execution_count": 45,
   "id": "2d0c2d1a",
   "metadata": {},
   "outputs": [
    {
     "data": {
      "text/html": [
       "<div>\n",
       "<style scoped>\n",
       "    .dataframe tbody tr th:only-of-type {\n",
       "        vertical-align: middle;\n",
       "    }\n",
       "\n",
       "    .dataframe tbody tr th {\n",
       "        vertical-align: top;\n",
       "    }\n",
       "\n",
       "    .dataframe thead th {\n",
       "        text-align: right;\n",
       "    }\n",
       "</style>\n",
       "<table border=\"1\" class=\"dataframe\">\n",
       "  <thead>\n",
       "    <tr style=\"text-align: right;\">\n",
       "      <th></th>\n",
       "      <th>unit_num</th>\n",
       "      <th>stub_name_num</th>\n",
       "      <th>stub_label_num</th>\n",
       "      <th>year_num</th>\n",
       "      <th>age_num</th>\n",
       "      <th>estimate</th>\n",
       "      <th>flag</th>\n",
       "    </tr>\n",
       "  </thead>\n",
       "  <tbody>\n",
       "    <tr>\n",
       "      <th>0</th>\n",
       "      <td>1</td>\n",
       "      <td>0</td>\n",
       "      <td>0.0</td>\n",
       "      <td>1</td>\n",
       "      <td>0.0</td>\n",
       "      <td>13.2</td>\n",
       "      <td>NaN</td>\n",
       "    </tr>\n",
       "    <tr>\n",
       "      <th>1</th>\n",
       "      <td>1</td>\n",
       "      <td>0</td>\n",
       "      <td>0.0</td>\n",
       "      <td>2</td>\n",
       "      <td>0.0</td>\n",
       "      <td>12.5</td>\n",
       "      <td>NaN</td>\n",
       "    </tr>\n",
       "    <tr>\n",
       "      <th>2</th>\n",
       "      <td>1</td>\n",
       "      <td>0</td>\n",
       "      <td>0.0</td>\n",
       "      <td>3</td>\n",
       "      <td>0.0</td>\n",
       "      <td>13.1</td>\n",
       "      <td>NaN</td>\n",
       "    </tr>\n",
       "    <tr>\n",
       "      <th>3</th>\n",
       "      <td>1</td>\n",
       "      <td>0</td>\n",
       "      <td>0.0</td>\n",
       "      <td>4</td>\n",
       "      <td>0.0</td>\n",
       "      <td>12.2</td>\n",
       "      <td>NaN</td>\n",
       "    </tr>\n",
       "    <tr>\n",
       "      <th>4</th>\n",
       "      <td>1</td>\n",
       "      <td>0</td>\n",
       "      <td>0.0</td>\n",
       "      <td>5</td>\n",
       "      <td>0.0</td>\n",
       "      <td>12.3</td>\n",
       "      <td>NaN</td>\n",
       "    </tr>\n",
       "  </tbody>\n",
       "</table>\n",
       "</div>"
      ],
      "text/plain": [
       "   unit_num  stub_name_num  stub_label_num  year_num  age_num  estimate flag\n",
       "0         1              0             0.0         1      0.0      13.2  NaN\n",
       "1         1              0             0.0         2      0.0      12.5  NaN\n",
       "2         1              0             0.0         3      0.0      13.1  NaN\n",
       "3         1              0             0.0         4      0.0      12.2  NaN\n",
       "4         1              0             0.0         5      0.0      12.3  NaN"
      ]
     },
     "execution_count": 45,
     "metadata": {},
     "output_type": "execute_result"
    }
   ],
   "source": [
    "data.head()"
   ]
  },
  {
   "cell_type": "code",
   "execution_count": 46,
   "id": "6e0d01bf",
   "metadata": {},
   "outputs": [
    {
     "name": "stdout",
     "output_type": "stream",
     "text": [
      "<class 'pandas.core.frame.DataFrame'>\n",
      "RangeIndex: 6390 entries, 0 to 6389\n",
      "Data columns (total 7 columns):\n",
      " #   Column          Non-Null Count  Dtype  \n",
      "---  ------          --------------  -----  \n",
      " 0   unit_num        6390 non-null   int64  \n",
      " 1   stub_name_num   6390 non-null   int64  \n",
      " 2   stub_label_num  6390 non-null   float64\n",
      " 3   year_num        6390 non-null   int64  \n",
      " 4   age_num         6390 non-null   float64\n",
      " 5   estimate        5484 non-null   float64\n",
      " 6   flag            906 non-null    object \n",
      "dtypes: float64(3), int64(3), object(1)\n",
      "memory usage: 349.6+ KB\n"
     ]
    }
   ],
   "source": [
    "data.info()"
   ]
  },
  {
   "cell_type": "code",
   "execution_count": 106,
   "id": "88b3b152",
   "metadata": {},
   "outputs": [
    {
     "data": {
      "text/html": [
       "<div>\n",
       "<style scoped>\n",
       "    .dataframe tbody tr th:only-of-type {\n",
       "        vertical-align: middle;\n",
       "    }\n",
       "\n",
       "    .dataframe tbody tr th {\n",
       "        vertical-align: top;\n",
       "    }\n",
       "\n",
       "    .dataframe thead th {\n",
       "        text-align: right;\n",
       "    }\n",
       "</style>\n",
       "<table border=\"1\" class=\"dataframe\">\n",
       "  <thead>\n",
       "    <tr style=\"text-align: right;\">\n",
       "      <th></th>\n",
       "      <th>unit_num</th>\n",
       "      <th>stub_name_num</th>\n",
       "      <th>stub_label_num</th>\n",
       "      <th>year_num</th>\n",
       "      <th>age_num</th>\n",
       "      <th>estimate</th>\n",
       "    </tr>\n",
       "  </thead>\n",
       "  <tbody>\n",
       "    <tr>\n",
       "      <th>count</th>\n",
       "      <td>6390.000000</td>\n",
       "      <td>6390.000000</td>\n",
       "      <td>6390.000000</td>\n",
       "      <td>6390.000000</td>\n",
       "      <td>6390.000000</td>\n",
       "      <td>6390.000000</td>\n",
       "    </tr>\n",
       "    <tr>\n",
       "      <th>mean</th>\n",
       "      <td>1.872926</td>\n",
       "      <td>4.621909</td>\n",
       "      <td>4.686775</td>\n",
       "      <td>22.692019</td>\n",
       "      <td>2.712207</td>\n",
       "      <td>13.483036</td>\n",
       "    </tr>\n",
       "    <tr>\n",
       "      <th>std</th>\n",
       "      <td>0.333081</td>\n",
       "      <td>2.031777</td>\n",
       "      <td>1.829624</td>\n",
       "      <td>12.286033</td>\n",
       "      <td>1.932280</td>\n",
       "      <td>11.265851</td>\n",
       "    </tr>\n",
       "    <tr>\n",
       "      <th>min</th>\n",
       "      <td>1.000000</td>\n",
       "      <td>0.000000</td>\n",
       "      <td>0.000000</td>\n",
       "      <td>1.000000</td>\n",
       "      <td>0.000000</td>\n",
       "      <td>0.300000</td>\n",
       "    </tr>\n",
       "    <tr>\n",
       "      <th>25%</th>\n",
       "      <td>2.000000</td>\n",
       "      <td>3.000000</td>\n",
       "      <td>3.230000</td>\n",
       "      <td>12.000000</td>\n",
       "      <td>0.000000</td>\n",
       "      <td>5.000000</td>\n",
       "    </tr>\n",
       "    <tr>\n",
       "      <th>50%</th>\n",
       "      <td>2.000000</td>\n",
       "      <td>5.000000</td>\n",
       "      <td>5.125100</td>\n",
       "      <td>23.000000</td>\n",
       "      <td>3.000000</td>\n",
       "      <td>10.300000</td>\n",
       "    </tr>\n",
       "    <tr>\n",
       "      <th>75%</th>\n",
       "      <td>2.000000</td>\n",
       "      <td>6.000000</td>\n",
       "      <td>6.153000</td>\n",
       "      <td>33.000000</td>\n",
       "      <td>4.100000</td>\n",
       "      <td>18.892763</td>\n",
       "    </tr>\n",
       "    <tr>\n",
       "      <th>max</th>\n",
       "      <td>2.000000</td>\n",
       "      <td>11.000000</td>\n",
       "      <td>7.235000</td>\n",
       "      <td>42.000000</td>\n",
       "      <td>6.000000</td>\n",
       "      <td>74.800000</td>\n",
       "    </tr>\n",
       "  </tbody>\n",
       "</table>\n",
       "</div>"
      ],
      "text/plain": [
       "          unit_num  stub_name_num  stub_label_num     year_num      age_num   \n",
       "count  6390.000000    6390.000000     6390.000000  6390.000000  6390.000000  \\\n",
       "mean      1.872926       4.621909        4.686775    22.692019     2.712207   \n",
       "std       0.333081       2.031777        1.829624    12.286033     1.932280   \n",
       "min       1.000000       0.000000        0.000000     1.000000     0.000000   \n",
       "25%       2.000000       3.000000        3.230000    12.000000     0.000000   \n",
       "50%       2.000000       5.000000        5.125100    23.000000     3.000000   \n",
       "75%       2.000000       6.000000        6.153000    33.000000     4.100000   \n",
       "max       2.000000      11.000000        7.235000    42.000000     6.000000   \n",
       "\n",
       "          estimate  \n",
       "count  6390.000000  \n",
       "mean     13.483036  \n",
       "std      11.265851  \n",
       "min       0.300000  \n",
       "25%       5.000000  \n",
       "50%      10.300000  \n",
       "75%      18.892763  \n",
       "max      74.800000  "
      ]
     },
     "execution_count": 106,
     "metadata": {},
     "output_type": "execute_result"
    }
   ],
   "source": [
    "data.describe()"
   ]
  },
  {
   "cell_type": "code",
   "execution_count": 51,
   "id": "19b2efd6",
   "metadata": {},
   "outputs": [
    {
     "data": {
      "text/plain": [
       "unit_num             0\n",
       "stub_name_num        0\n",
       "stub_label_num       0\n",
       "year_num             0\n",
       "age_num              0\n",
       "estimate           906\n",
       "flag              5484\n",
       "dtype: int64"
      ]
     },
     "execution_count": 51,
     "metadata": {},
     "output_type": "execute_result"
    }
   ],
   "source": [
    "# checking for the null values in the whole dataset\n",
    "data.isnull().sum()"
   ]
  },
  {
   "cell_type": "code",
   "execution_count": 53,
   "id": "258c9ebc",
   "metadata": {},
   "outputs": [
    {
     "data": {
      "image/png": "[encoded data removed]",
      "text/plain": [
       "<Figure size 640x480 with 2 Axes>"
      ]
     },
     "metadata": {},
     "output_type": "display_data"
    }
   ],
   "source": [
    "# checking for the null values in the whole dataset through heatmap\n",
    "sns.heatmap(data.isnull(), yticklabels=False)\n",
    "plt.show()"
   ]
  },
  {
   "cell_type": "markdown",
   "id": "f1f8213b",
   "metadata": {},
   "source": [
    "- Around 14% null values in estimate & 85% null values are present in the flag column"
   ]
  },
  {
   "cell_type": "markdown",
   "id": "7057c75e",
   "metadata": {},
   "source": [
    "#### Handling Missing Values"
   ]
  },
  {
   "cell_type": "code",
   "execution_count": 57,
   "id": "875f8d4d",
   "metadata": {},
   "outputs": [
    {
     "data": {
      "image/png": "[encoded data removed]",
      "text/plain": [
       "<Figure size 640x480 with 1 Axes>"
      ]
     },
     "metadata": {},
     "output_type": "display_data"
    }
   ],
   "source": [
    "# checking for the outliers in estimate feature\n",
    "sns.boxplot(data.estimate)\n",
    "plt.show()"
   ]
  },
  {
   "cell_type": "code",
   "execution_count": 82,
   "id": "b53628cd",
   "metadata": {},
   "outputs": [
    {
     "name": "stdout",
     "output_type": "stream",
     "text": [
      "Std is 11.531805309076454\n",
      "Mean is 13.709810357403356\n",
      "Median is 10.5\n",
      "Mode is 0    4.3\n",
      "Name: estimate, dtype: float64\n"
     ]
    }
   ],
   "source": [
    "# so we can't use mean to impute missing values as mean is the central tendency that is more influenced by outliers\n",
    "# std\n",
    "print('Std is {}'.format(data.estimate.std()))\n",
    "\n",
    "# mean\n",
    "print('Mean is {}'.format(data.estimate.mean()))\n",
    "\n",
    "# median\n",
    "print('Median is {}'.format(data.estimate.median()))\n",
    "\n",
    "# mode\n",
    "print('Mode is {}'.format(data.estimate.mode()))"
   ]
  },
  {
   "cell_type": "code",
   "execution_count": 83,
   "id": "a2933a08",
   "metadata": {},
   "outputs": [
    {
     "name": "stdout",
     "output_type": "stream",
     "text": [
      "Std is 11.265850889566256\n",
      "Mean is 13.48303599374022\n",
      "Median is 10.3\n",
      "Mode is 0    4.3\n",
      "Name: estimate, dtype: float64\n"
     ]
    }
   ],
   "source": [
    "# using interpolation method to handle missing values\n",
    "data.estimate = data.estimate.interpolate(method='linear')\n",
    "\n",
    "# std\n",
    "print('Std is {}'.format(data.estimate.std()))\n",
    "\n",
    "# mean\n",
    "print('Mean is {}'.format(data.estimate.mean()))\n",
    "\n",
    "# median\n",
    "print('Median is {}'.format(data.estimate.median()))\n",
    "\n",
    "# mode\n",
    "print('Mode is {}'.format(data.estimate.mode()))"
   ]
  },
  {
   "cell_type": "markdown",
   "id": "5bd3edfa",
   "metadata": {},
   "source": [
    "- We can see that after applying the interpolation method to handle missing values, mean, median, mode and std all are similar which means that we can use this for model building"
   ]
  },
  {
   "cell_type": "code",
   "execution_count": 86,
   "id": "fbc1e047",
   "metadata": {},
   "outputs": [
    {
     "data": {
      "text/html": [
       "<div>\n",
       "<style scoped>\n",
       "    .dataframe tbody tr th:only-of-type {\n",
       "        vertical-align: middle;\n",
       "    }\n",
       "\n",
       "    .dataframe tbody tr th {\n",
       "        vertical-align: top;\n",
       "    }\n",
       "\n",
       "    .dataframe thead th {\n",
       "        text-align: right;\n",
       "    }\n",
       "</style>\n",
       "<table border=\"1\" class=\"dataframe\">\n",
       "  <thead>\n",
       "    <tr style=\"text-align: right;\">\n",
       "      <th></th>\n",
       "      <th>unit_num</th>\n",
       "      <th>stub_name_num</th>\n",
       "      <th>stub_label_num</th>\n",
       "      <th>year_num</th>\n",
       "      <th>age_num</th>\n",
       "      <th>estimate</th>\n",
       "    </tr>\n",
       "  </thead>\n",
       "  <tbody>\n",
       "    <tr>\n",
       "      <th>0</th>\n",
       "      <td>1</td>\n",
       "      <td>0</td>\n",
       "      <td>0.0</td>\n",
       "      <td>1</td>\n",
       "      <td>0.0</td>\n",
       "      <td>13.2</td>\n",
       "    </tr>\n",
       "    <tr>\n",
       "      <th>1</th>\n",
       "      <td>1</td>\n",
       "      <td>0</td>\n",
       "      <td>0.0</td>\n",
       "      <td>2</td>\n",
       "      <td>0.0</td>\n",
       "      <td>12.5</td>\n",
       "    </tr>\n",
       "    <tr>\n",
       "      <th>2</th>\n",
       "      <td>1</td>\n",
       "      <td>0</td>\n",
       "      <td>0.0</td>\n",
       "      <td>3</td>\n",
       "      <td>0.0</td>\n",
       "      <td>13.1</td>\n",
       "    </tr>\n",
       "    <tr>\n",
       "      <th>3</th>\n",
       "      <td>1</td>\n",
       "      <td>0</td>\n",
       "      <td>0.0</td>\n",
       "      <td>4</td>\n",
       "      <td>0.0</td>\n",
       "      <td>12.2</td>\n",
       "    </tr>\n",
       "    <tr>\n",
       "      <th>4</th>\n",
       "      <td>1</td>\n",
       "      <td>0</td>\n",
       "      <td>0.0</td>\n",
       "      <td>5</td>\n",
       "      <td>0.0</td>\n",
       "      <td>12.3</td>\n",
       "    </tr>\n",
       "  </tbody>\n",
       "</table>\n",
       "</div>"
      ],
      "text/plain": [
       "   unit_num  stub_name_num  stub_label_num  year_num  age_num  estimate\n",
       "0         1              0             0.0         1      0.0      13.2\n",
       "1         1              0             0.0         2      0.0      12.5\n",
       "2         1              0             0.0         3      0.0      13.1\n",
       "3         1              0             0.0         4      0.0      12.2\n",
       "4         1              0             0.0         5      0.0      12.3"
      ]
     },
     "execution_count": 86,
     "metadata": {},
     "output_type": "execute_result"
    }
   ],
   "source": [
    "#flag has too many missing values so it's good to drop it instead of handling or filling it & we can't duplicate the data \n",
    "data.drop('flag', axis=1, inplace=True)"
   ]
  },
  {
   "cell_type": "markdown",
   "id": "ab4b1511",
   "metadata": {},
   "source": [
    "<!-- Moving towards checking for outliers -->"
   ]
  },
  {
   "cell_type": "code",
   "execution_count": 87,
   "id": "343640c2",
   "metadata": {},
   "outputs": [
    {
     "data": {
      "text/html": [
       "<div>\n",
       "<style scoped>\n",
       "    .dataframe tbody tr th:only-of-type {\n",
       "        vertical-align: middle;\n",
       "    }\n",
       "\n",
       "    .dataframe tbody tr th {\n",
       "        vertical-align: top;\n",
       "    }\n",
       "\n",
       "    .dataframe thead th {\n",
       "        text-align: right;\n",
       "    }\n",
       "</style>\n",
       "<table border=\"1\" class=\"dataframe\">\n",
       "  <thead>\n",
       "    <tr style=\"text-align: right;\">\n",
       "      <th></th>\n",
       "      <th>unit_num</th>\n",
       "      <th>stub_name_num</th>\n",
       "      <th>stub_label_num</th>\n",
       "      <th>year_num</th>\n",
       "      <th>age_num</th>\n",
       "      <th>estimate</th>\n",
       "    </tr>\n",
       "  </thead>\n",
       "  <tbody>\n",
       "    <tr>\n",
       "      <th>0</th>\n",
       "      <td>1</td>\n",
       "      <td>0</td>\n",
       "      <td>0.0</td>\n",
       "      <td>1</td>\n",
       "      <td>0.0</td>\n",
       "      <td>13.2</td>\n",
       "    </tr>\n",
       "    <tr>\n",
       "      <th>1</th>\n",
       "      <td>1</td>\n",
       "      <td>0</td>\n",
       "      <td>0.0</td>\n",
       "      <td>2</td>\n",
       "      <td>0.0</td>\n",
       "      <td>12.5</td>\n",
       "    </tr>\n",
       "    <tr>\n",
       "      <th>2</th>\n",
       "      <td>1</td>\n",
       "      <td>0</td>\n",
       "      <td>0.0</td>\n",
       "      <td>3</td>\n",
       "      <td>0.0</td>\n",
       "      <td>13.1</td>\n",
       "    </tr>\n",
       "    <tr>\n",
       "      <th>3</th>\n",
       "      <td>1</td>\n",
       "      <td>0</td>\n",
       "      <td>0.0</td>\n",
       "      <td>4</td>\n",
       "      <td>0.0</td>\n",
       "      <td>12.2</td>\n",
       "    </tr>\n",
       "    <tr>\n",
       "      <th>4</th>\n",
       "      <td>1</td>\n",
       "      <td>0</td>\n",
       "      <td>0.0</td>\n",
       "      <td>5</td>\n",
       "      <td>0.0</td>\n",
       "      <td>12.3</td>\n",
       "    </tr>\n",
       "  </tbody>\n",
       "</table>\n",
       "</div>"
      ],
      "text/plain": [
       "   unit_num  stub_name_num  stub_label_num  year_num  age_num  estimate\n",
       "0         1              0             0.0         1      0.0      13.2\n",
       "1         1              0             0.0         2      0.0      12.5\n",
       "2         1              0             0.0         3      0.0      13.1\n",
       "3         1              0             0.0         4      0.0      12.2\n",
       "4         1              0             0.0         5      0.0      12.3"
      ]
     },
     "execution_count": 87,
     "metadata": {},
     "output_type": "execute_result"
    }
   ],
   "source": [
    "data.head()"
   ]
  },
  {
   "cell_type": "markdown",
   "id": "2ad10f71",
   "metadata": {},
   "source": [
    "#### Moving towards handling outliers"
   ]
  },
  {
   "cell_type": "code",
   "execution_count": 90,
   "id": "0bacbff9",
   "metadata": {},
   "outputs": [
    {
     "data": {
      "image/png": "[encoded data removed]",
      "text/plain": [
       "<Figure size 640x480 with 1 Axes>"
      ]
     },
     "metadata": {},
     "output_type": "display_data"
    }
   ],
   "source": [
    "sns.boxplot(data['estimate'], linewidth=2.4)\n",
    "plt.show()"
   ]
  },
  {
   "cell_type": "code",
   "execution_count": 103,
   "id": "0a635688",
   "metadata": {},
   "outputs": [
    {
     "data": {
      "text/html": [
       "<div>\n",
       "<style scoped>\n",
       "    .dataframe tbody tr th:only-of-type {\n",
       "        vertical-align: middle;\n",
       "    }\n",
       "\n",
       "    .dataframe tbody tr th {\n",
       "        vertical-align: top;\n",
       "    }\n",
       "\n",
       "    .dataframe thead th {\n",
       "        text-align: right;\n",
       "    }\n",
       "</style>\n",
       "<table border=\"1\" class=\"dataframe\">\n",
       "  <thead>\n",
       "    <tr style=\"text-align: right;\">\n",
       "      <th></th>\n",
       "      <th>unit_num</th>\n",
       "      <th>stub_name_num</th>\n",
       "      <th>stub_label_num</th>\n",
       "      <th>year_num</th>\n",
       "      <th>age_num</th>\n",
       "      <th>estimate</th>\n",
       "    </tr>\n",
       "  </thead>\n",
       "  <tbody>\n",
       "    <tr>\n",
       "      <th>count</th>\n",
       "      <td>6390.000000</td>\n",
       "      <td>6390.000000</td>\n",
       "      <td>6390.000000</td>\n",
       "      <td>6390.000000</td>\n",
       "      <td>6390.000000</td>\n",
       "      <td>6390.000000</td>\n",
       "    </tr>\n",
       "    <tr>\n",
       "      <th>mean</th>\n",
       "      <td>1.872926</td>\n",
       "      <td>4.621909</td>\n",
       "      <td>4.686775</td>\n",
       "      <td>22.692019</td>\n",
       "      <td>2.712207</td>\n",
       "      <td>13.483036</td>\n",
       "    </tr>\n",
       "    <tr>\n",
       "      <th>std</th>\n",
       "      <td>0.333081</td>\n",
       "      <td>2.031777</td>\n",
       "      <td>1.829624</td>\n",
       "      <td>12.286033</td>\n",
       "      <td>1.932280</td>\n",
       "      <td>11.265851</td>\n",
       "    </tr>\n",
       "    <tr>\n",
       "      <th>min</th>\n",
       "      <td>1.000000</td>\n",
       "      <td>0.000000</td>\n",
       "      <td>0.000000</td>\n",
       "      <td>1.000000</td>\n",
       "      <td>0.000000</td>\n",
       "      <td>0.300000</td>\n",
       "    </tr>\n",
       "    <tr>\n",
       "      <th>1%</th>\n",
       "      <td>1.000000</td>\n",
       "      <td>0.000000</td>\n",
       "      <td>0.000000</td>\n",
       "      <td>1.000000</td>\n",
       "      <td>0.000000</td>\n",
       "      <td>1.200000</td>\n",
       "    </tr>\n",
       "    <tr>\n",
       "      <th>5%</th>\n",
       "      <td>1.000000</td>\n",
       "      <td>1.000000</td>\n",
       "      <td>1.310000</td>\n",
       "      <td>3.000000</td>\n",
       "      <td>0.000000</td>\n",
       "      <td>2.000000</td>\n",
       "    </tr>\n",
       "    <tr>\n",
       "      <th>50%</th>\n",
       "      <td>2.000000</td>\n",
       "      <td>5.000000</td>\n",
       "      <td>5.125100</td>\n",
       "      <td>23.000000</td>\n",
       "      <td>3.000000</td>\n",
       "      <td>10.300000</td>\n",
       "    </tr>\n",
       "    <tr>\n",
       "      <th>90%</th>\n",
       "      <td>2.000000</td>\n",
       "      <td>7.000000</td>\n",
       "      <td>7.133000</td>\n",
       "      <td>39.000000</td>\n",
       "      <td>5.000000</td>\n",
       "      <td>27.400000</td>\n",
       "    </tr>\n",
       "    <tr>\n",
       "      <th>95%</th>\n",
       "      <td>2.000000</td>\n",
       "      <td>7.000000</td>\n",
       "      <td>7.222000</td>\n",
       "      <td>41.000000</td>\n",
       "      <td>5.200000</td>\n",
       "      <td>35.700000</td>\n",
       "    </tr>\n",
       "    <tr>\n",
       "      <th>96%</th>\n",
       "      <td>2.000000</td>\n",
       "      <td>7.000000</td>\n",
       "      <td>7.224000</td>\n",
       "      <td>42.000000</td>\n",
       "      <td>5.200000</td>\n",
       "      <td>38.100000</td>\n",
       "    </tr>\n",
       "    <tr>\n",
       "      <th>97%</th>\n",
       "      <td>2.000000</td>\n",
       "      <td>7.000000</td>\n",
       "      <td>7.225000</td>\n",
       "      <td>42.000000</td>\n",
       "      <td>6.000000</td>\n",
       "      <td>41.877667</td>\n",
       "    </tr>\n",
       "    <tr>\n",
       "      <th>98%</th>\n",
       "      <td>2.000000</td>\n",
       "      <td>7.000000</td>\n",
       "      <td>7.233000</td>\n",
       "      <td>42.000000</td>\n",
       "      <td>6.000000</td>\n",
       "      <td>46.900000</td>\n",
       "    </tr>\n",
       "    <tr>\n",
       "      <th>99%</th>\n",
       "      <td>2.000000</td>\n",
       "      <td>10.000000</td>\n",
       "      <td>7.234000</td>\n",
       "      <td>42.000000</td>\n",
       "      <td>6.000000</td>\n",
       "      <td>54.500000</td>\n",
       "    </tr>\n",
       "    <tr>\n",
       "      <th>max</th>\n",
       "      <td>2.000000</td>\n",
       "      <td>11.000000</td>\n",
       "      <td>7.235000</td>\n",
       "      <td>42.000000</td>\n",
       "      <td>6.000000</td>\n",
       "      <td>74.800000</td>\n",
       "    </tr>\n",
       "  </tbody>\n",
       "</table>\n",
       "</div>"
      ],
      "text/plain": [
       "          unit_num  stub_name_num  stub_label_num     year_num      age_num   \n",
       "count  6390.000000    6390.000000     6390.000000  6390.000000  6390.000000  \\\n",
       "mean      1.872926       4.621909        4.686775    22.692019     2.712207   \n",
       "std       0.333081       2.031777        1.829624    12.286033     1.932280   \n",
       "min       1.000000       0.000000        0.000000     1.000000     0.000000   \n",
       "1%        1.000000       0.000000        0.000000     1.000000     0.000000   \n",
       "5%        1.000000       1.000000        1.310000     3.000000     0.000000   \n",
       "50%       2.000000       5.000000        5.125100    23.000000     3.000000   \n",
       "90%       2.000000       7.000000        7.133000    39.000000     5.000000   \n",
       "95%       2.000000       7.000000        7.222000    41.000000     5.200000   \n",
       "96%       2.000000       7.000000        7.224000    42.000000     5.200000   \n",
       "97%       2.000000       7.000000        7.225000    42.000000     6.000000   \n",
       "98%       2.000000       7.000000        7.233000    42.000000     6.000000   \n",
       "99%       2.000000      10.000000        7.234000    42.000000     6.000000   \n",
       "max       2.000000      11.000000        7.235000    42.000000     6.000000   \n",
       "\n",
       "          estimate  \n",
       "count  6390.000000  \n",
       "mean     13.483036  \n",
       "std      11.265851  \n",
       "min       0.300000  \n",
       "1%        1.200000  \n",
       "5%        2.000000  \n",
       "50%      10.300000  \n",
       "90%      27.400000  \n",
       "95%      35.700000  \n",
       "96%      38.100000  \n",
       "97%      41.877667  \n",
       "98%      46.900000  \n",
       "99%      54.500000  \n",
       "max      74.800000  "
      ]
     },
     "execution_count": 103,
     "metadata": {},
     "output_type": "execute_result"
    }
   ],
   "source": [
    "data.describe(percentiles=[0.01,0.05,0.90,0.95,0.96,0.97,0.98,0.99])"
   ]
  },
  {
   "cell_type": "code",
   "execution_count": 105,
   "id": "8800a92d",
   "metadata": {},
   "outputs": [
    {
     "data": {
      "image/png": "[encoded data removed]",
      "text/plain": [
       "<Figure size 640x480 with 1 Axes>"
      ]
     },
     "metadata": {},
     "output_type": "display_data"
    }
   ],
   "source": [
    "# Using clipping & capping method to handle outliers\n",
    "# only extreme larger values are there so no need to set the lower_percentile\n",
    "lower_percentile = data.estimate.min()\n",
    "upper_percentile = np.percentile(data.estimate, 97)\n",
    "sns.boxplot(np.clip(data.estimate.values,a_min=lower_percentile ,a_max=upper_percentile), linewidth=2.4)\n",
    "plt.show()"
   ]
  },
  {
   "cell_type": "code",
   "execution_count": 109,
   "id": "795fdcf4",
   "metadata": {},
   "outputs": [],
   "source": [
    "data.estimate = np.clip(data.estimate.values,a_min=lower_percentile ,a_max=upper_percentile)"
   ]
  },
  {
   "cell_type": "markdown",
   "id": "3179ea20",
   "metadata": {},
   "source": [
    "### Splitting the dataset"
   ]
  },
  {
   "cell_type": "code",
   "execution_count": 121,
   "id": "b2039ba8",
   "metadata": {},
   "outputs": [
    {
     "data": {
      "text/html": [
       "<div>\n",
       "<style scoped>\n",
       "    .dataframe tbody tr th:only-of-type {\n",
       "        vertical-align: middle;\n",
       "    }\n",
       "\n",
       "    .dataframe tbody tr th {\n",
       "        vertical-align: top;\n",
       "    }\n",
       "\n",
       "    .dataframe thead th {\n",
       "        text-align: right;\n",
       "    }\n",
       "</style>\n",
       "<table border=\"1\" class=\"dataframe\">\n",
       "  <thead>\n",
       "    <tr style=\"text-align: right;\">\n",
       "      <th></th>\n",
       "      <th>unit_num</th>\n",
       "      <th>stub_name_num</th>\n",
       "      <th>stub_label_num</th>\n",
       "      <th>year_num</th>\n",
       "      <th>age_num</th>\n",
       "      <th>estimate</th>\n",
       "    </tr>\n",
       "  </thead>\n",
       "  <tbody>\n",
       "    <tr>\n",
       "      <th>0</th>\n",
       "      <td>1</td>\n",
       "      <td>0</td>\n",
       "      <td>0.0</td>\n",
       "      <td>1</td>\n",
       "      <td>0.0</td>\n",
       "      <td>13.2</td>\n",
       "    </tr>\n",
       "    <tr>\n",
       "      <th>1</th>\n",
       "      <td>1</td>\n",
       "      <td>0</td>\n",
       "      <td>0.0</td>\n",
       "      <td>2</td>\n",
       "      <td>0.0</td>\n",
       "      <td>12.5</td>\n",
       "    </tr>\n",
       "    <tr>\n",
       "      <th>2</th>\n",
       "      <td>1</td>\n",
       "      <td>0</td>\n",
       "      <td>0.0</td>\n",
       "      <td>3</td>\n",
       "      <td>0.0</td>\n",
       "      <td>13.1</td>\n",
       "    </tr>\n",
       "    <tr>\n",
       "      <th>3</th>\n",
       "      <td>1</td>\n",
       "      <td>0</td>\n",
       "      <td>0.0</td>\n",
       "      <td>4</td>\n",
       "      <td>0.0</td>\n",
       "      <td>12.2</td>\n",
       "    </tr>\n",
       "    <tr>\n",
       "      <th>4</th>\n",
       "      <td>1</td>\n",
       "      <td>0</td>\n",
       "      <td>0.0</td>\n",
       "      <td>5</td>\n",
       "      <td>0.0</td>\n",
       "      <td>12.3</td>\n",
       "    </tr>\n",
       "  </tbody>\n",
       "</table>\n",
       "</div>"
      ],
      "text/plain": [
       "   unit_num  stub_name_num  stub_label_num  year_num  age_num  estimate\n",
       "0         1              0             0.0         1      0.0      13.2\n",
       "1         1              0             0.0         2      0.0      12.5\n",
       "2         1              0             0.0         3      0.0      13.1\n",
       "3         1              0             0.0         4      0.0      12.2\n",
       "4         1              0             0.0         5      0.0      12.3"
      ]
     },
     "execution_count": 121,
     "metadata": {},
     "output_type": "execute_result"
    }
   ],
   "source": [
    "data.head()"
   ]
  },
  {
   "cell_type": "code",
   "execution_count": 217,
   "id": "f6c1b05e",
   "metadata": {},
   "outputs": [],
   "source": [
    "X = data.drop('unit_num',axis=1)\n",
    "y = data['unit_num']"
   ]
  },
  {
   "cell_type": "code",
   "execution_count": 218,
   "id": "3b9374a3",
   "metadata": {
    "scrolled": true
   },
   "outputs": [
    {
     "data": {
      "text/plain": [
       "unit_num\n",
       "1    5578\n",
       "0     812\n",
       "Name: count, dtype: int64"
      ]
     },
     "execution_count": 218,
     "metadata": {},
     "output_type": "execute_result"
    }
   ],
   "source": [
    "y = y.map(lambda x:1 if x == 2 else 0)\n",
    "y.value_counts()"
   ]
  },
  {
   "cell_type": "markdown",
   "id": "21503612",
   "metadata": {},
   "source": [
    "- 1 is for crude deaths\n",
    "- wheras 0 is for age-adjusted deaths"
   ]
  },
  {
   "cell_type": "code",
   "execution_count": 219,
   "id": "c4da0dcb",
   "metadata": {},
   "outputs": [],
   "source": [
    "X_train, X_test, y_train, y_test = train_test_split(X, y, test_size=0.30, random_state=42, stratify=y)\n",
    "# stratify is for ensuring the same sample proportion inorder to reduce class imbalance"
   ]
  },
  {
   "cell_type": "code",
   "execution_count": 220,
   "id": "89ff1e52",
   "metadata": {},
   "outputs": [
    {
     "data": {
      "text/html": [
       "<div>\n",
       "<style scoped>\n",
       "    .dataframe tbody tr th:only-of-type {\n",
       "        vertical-align: middle;\n",
       "    }\n",
       "\n",
       "    .dataframe tbody tr th {\n",
       "        vertical-align: top;\n",
       "    }\n",
       "\n",
       "    .dataframe thead th {\n",
       "        text-align: right;\n",
       "    }\n",
       "</style>\n",
       "<table border=\"1\" class=\"dataframe\">\n",
       "  <thead>\n",
       "    <tr style=\"text-align: right;\">\n",
       "      <th></th>\n",
       "      <th>stub_name_num</th>\n",
       "      <th>stub_label_num</th>\n",
       "      <th>year_num</th>\n",
       "      <th>age_num</th>\n",
       "      <th>estimate</th>\n",
       "    </tr>\n",
       "  </thead>\n",
       "  <tbody>\n",
       "    <tr>\n",
       "      <th>5786</th>\n",
       "      <td>7</td>\n",
       "      <td>7.135</td>\n",
       "      <td>39</td>\n",
       "      <td>5.0</td>\n",
       "      <td>14.5</td>\n",
       "    </tr>\n",
       "    <tr>\n",
       "      <th>1738</th>\n",
       "      <td>3</td>\n",
       "      <td>3.131</td>\n",
       "      <td>3</td>\n",
       "      <td>3.1</td>\n",
       "      <td>19.8</td>\n",
       "    </tr>\n",
       "    <tr>\n",
       "      <th>726</th>\n",
       "      <td>6</td>\n",
       "      <td>6.230</td>\n",
       "      <td>14</td>\n",
       "      <td>0.0</td>\n",
       "      <td>2.3</td>\n",
       "    </tr>\n",
       "    <tr>\n",
       "      <th>849</th>\n",
       "      <td>0</td>\n",
       "      <td>0.000</td>\n",
       "      <td>38</td>\n",
       "      <td>0.0</td>\n",
       "      <td>13.4</td>\n",
       "    </tr>\n",
       "    <tr>\n",
       "      <th>5612</th>\n",
       "      <td>7</td>\n",
       "      <td>7.125</td>\n",
       "      <td>33</td>\n",
       "      <td>5.0</td>\n",
       "      <td>9.8</td>\n",
       "    </tr>\n",
       "  </tbody>\n",
       "</table>\n",
       "</div>"
      ],
      "text/plain": [
       "      stub_name_num  stub_label_num  year_num  age_num  estimate\n",
       "5786              7           7.135        39      5.0      14.5\n",
       "1738              3           3.131         3      3.1      19.8\n",
       "726               6           6.230        14      0.0       2.3\n",
       "849               0           0.000        38      0.0      13.4\n",
       "5612              7           7.125        33      5.0       9.8"
      ]
     },
     "execution_count": 220,
     "metadata": {},
     "output_type": "execute_result"
    }
   ],
   "source": [
    "X_train.head()"
   ]
  },
  {
   "cell_type": "code",
   "execution_count": 221,
   "id": "8b902a56",
   "metadata": {},
   "outputs": [
    {
     "data": {
      "text/plain": [
       "5786    1\n",
       "1738    1\n",
       "726     0\n",
       "849     1\n",
       "5612    1\n",
       "Name: unit_num, dtype: int64"
      ]
     },
     "execution_count": 221,
     "metadata": {},
     "output_type": "execute_result"
    }
   ],
   "source": [
    "y_train.head()"
   ]
  },
  {
   "cell_type": "markdown",
   "id": "02b21f88",
   "metadata": {},
   "source": [
    "#### Skewness"
   ]
  },
  {
   "cell_type": "code",
   "execution_count": 222,
   "id": "3886c4b0",
   "metadata": {},
   "outputs": [
    {
     "data": {
      "text/plain": [
       "stub_name_num    -0.080026\n",
       "stub_label_num   -0.435131\n",
       "year_num         -0.098776\n",
       "age_num          -0.181590\n",
       "estimate          1.102478\n",
       "dtype: float64"
      ]
     },
     "execution_count": 222,
     "metadata": {},
     "output_type": "execute_result"
    }
   ],
   "source": [
    "X_train.skew()"
   ]
  },
  {
   "cell_type": "code",
   "execution_count": 223,
   "id": "3f1c3098",
   "metadata": {
    "scrolled": true
   },
   "outputs": [
    {
     "name": "stdout",
     "output_type": "stream",
     "text": [
      "0.0\n"
     ]
    }
   ],
   "source": [
    "# Using shapiro testing to get the exact results\n",
    "stats, pvalue = shapiro(data.estimate)\n",
    "print(pvalue)    "
   ]
  },
  {
   "cell_type": "code",
   "execution_count": 224,
   "id": "4413b514",
   "metadata": {},
   "outputs": [
    {
     "data": {
      "image/png": "[encoded data removed]",
      "text/plain": [
       "<Figure size 640x480 with 1 Axes>"
      ]
     },
     "metadata": {},
     "output_type": "display_data"
    }
   ],
   "source": [
    "sns.distplot(data)\n",
    "plt.show()"
   ]
  },
  {
   "cell_type": "code",
   "execution_count": 225,
   "id": "b5774167",
   "metadata": {},
   "outputs": [],
   "source": [
    "# creating object for StandardScaler\n",
    "sc = StandardScaler()\n",
    "X_train_new = sc.fit_transform(X_train)\n",
    "X_train = pd.DataFrame(X_train_new, columns=X_train.columns)"
   ]
  },
  {
   "cell_type": "markdown",
   "id": "7e2996ed",
   "metadata": {},
   "source": [
    "### Model Building Using LogisticRegression()"
   ]
  },
  {
   "cell_type": "code",
   "execution_count": 226,
   "id": "459373dd",
   "metadata": {},
   "outputs": [
    {
     "data": {
      "text/html": [
       "<style>#sk-container-id-2 {color: black;background-color: white;}#sk-container-id-2 pre{padding: 0;}#sk-container-id-2 div.sk-toggleable {background-color: white;}#sk-container-id-2 label.sk-toggleable__label {cursor: pointer;display: block;width: 100%;margin-bottom: 0;padding: 0.3em;box-sizing: border-box;text-align: center;}#sk-container-id-2 label.sk-toggleable__label-arrow:before {content: \"▸\";float: left;margin-right: 0.25em;color: #696969;}#sk-container-id-2 label.sk-toggleable__label-arrow:hover:before {color: black;}#sk-container-id-2 div.sk-estimator:hover label.sk-toggleable__label-arrow:before {color: black;}#sk-container-id-2 div.sk-toggleable__content {max-height: 0;max-width: 0;overflow: hidden;text-align: left;background-color: #f0f8ff;}#sk-container-id-2 div.sk-toggleable__content pre {margin: 0.2em;color: black;border-radius: 0.25em;background-color: #f0f8ff;}#sk-container-id-2 input.sk-toggleable__control:checked~div.sk-toggleable__content {max-height: 200px;max-width: 100%;overflow: auto;}#sk-container-id-2 input.sk-toggleable__control:checked~label.sk-toggleable__label-arrow:before {content: \"▾\";}#sk-container-id-2 div.sk-estimator input.sk-toggleable__control:checked~label.sk-toggleable__label {background-color: #d4ebff;}#sk-container-id-2 div.sk-label input.sk-toggleable__control:checked~label.sk-toggleable__label {background-color: #d4ebff;}#sk-container-id-2 input.sk-hidden--visually {border: 0;clip: rect(1px 1px 1px 1px);clip: rect(1px, 1px, 1px, 1px);height: 1px;margin: -1px;overflow: hidden;padding: 0;position: absolute;width: 1px;}#sk-container-id-2 div.sk-estimator {font-family: monospace;background-color: #f0f8ff;border: 1px dotted black;border-radius: 0.25em;box-sizing: border-box;margin-bottom: 0.5em;}#sk-container-id-2 div.sk-estimator:hover {background-color: #d4ebff;}#sk-container-id-2 div.sk-parallel-item::after {content: \"\";width: 100%;border-bottom: 1px solid gray;flex-grow: 1;}#sk-container-id-2 div.sk-label:hover label.sk-toggleable__label {background-color: #d4ebff;}#sk-container-id-2 div.sk-serial::before {content: \"\";position: absolute;border-left: 1px solid gray;box-sizing: border-box;top: 0;bottom: 0;left: 50%;z-index: 0;}#sk-container-id-2 div.sk-serial {display: flex;flex-direction: column;align-items: center;background-color: white;padding-right: 0.2em;padding-left: 0.2em;position: relative;}#sk-container-id-2 div.sk-item {position: relative;z-index: 1;}#sk-container-id-2 div.sk-parallel {display: flex;align-items: stretch;justify-content: center;background-color: white;position: relative;}#sk-container-id-2 div.sk-item::before, #sk-container-id-2 div.sk-parallel-item::before {content: \"\";position: absolute;border-left: 1px solid gray;box-sizing: border-box;top: 0;bottom: 0;left: 50%;z-index: -1;}#sk-container-id-2 div.sk-parallel-item {display: flex;flex-direction: column;z-index: 1;position: relative;background-color: white;}#sk-container-id-2 div.sk-parallel-item:first-child::after {align-self: flex-end;width: 50%;}#sk-container-id-2 div.sk-parallel-item:last-child::after {align-self: flex-start;width: 50%;}#sk-container-id-2 div.sk-parallel-item:only-child::after {width: 0;}#sk-container-id-2 div.sk-dashed-wrapped {border: 1px dashed gray;margin: 0 0.4em 0.5em 0.4em;box-sizing: border-box;padding-bottom: 0.4em;background-color: white;}#sk-container-id-2 div.sk-label label {font-family: monospace;font-weight: bold;display: inline-block;line-height: 1.2em;}#sk-container-id-2 div.sk-label-container {text-align: center;}#sk-container-id-2 div.sk-container {/* jupyter's `normalize.less` sets `[hidden] { display: none; }` but bootstrap.min.css set `[hidden] { display: none !important; }` so we also need the `!important` here to be able to override the default hidden behavior on the sphinx rendered scikit-learn.org. See: https://github.com/scikit-learn/scikit-learn/issues/21755 */display: inline-block !important;position: relative;}#sk-container-id-2 div.sk-text-repr-fallback {display: none;}</style><div id=\"sk-container-id-2\" class=\"sk-top-container\"><div class=\"sk-text-repr-fallback\"><pre>LogisticRegression(C=1, l1_ratio=0.7, penalty=&#x27;elasticnet&#x27;, solver=&#x27;saga&#x27;)</pre><b>In a Jupyter environment, please rerun this cell to show the HTML representation or trust the notebook. <br />On GitHub, the HTML representation is unable to render, please try loading this page with nbviewer.org.</b></div><div class=\"sk-container\" hidden><div class=\"sk-item\"><div class=\"sk-estimator sk-toggleable\"><input class=\"sk-toggleable__control sk-hidden--visually\" id=\"sk-estimator-id-2\" type=\"checkbox\" checked><label for=\"sk-estimator-id-2\" class=\"sk-toggleable__label sk-toggleable__label-arrow\">LogisticRegression</label><div class=\"sk-toggleable__content\"><pre>LogisticRegression(C=1, l1_ratio=0.7, penalty=&#x27;elasticnet&#x27;, solver=&#x27;saga&#x27;)</pre></div></div></div></div></div>"
      ],
      "text/plain": [
       "LogisticRegression(C=1, l1_ratio=0.7, penalty='elasticnet', solver='saga')"
      ]
     },
     "execution_count": 226,
     "metadata": {},
     "output_type": "execute_result"
    }
   ],
   "source": [
    "# creating an object for GLM(Generalized linear model)\n",
    "lr = LogisticRegression(penalty='elasticnet',C=1,l1_ratio=0.7,solver='saga')\n",
    "lr.fit(X_train, y_train)"
   ]
  },
  {
   "cell_type": "markdown",
   "id": "14126f13",
   "metadata": {},
   "source": [
    "#### Checking VIF"
   ]
  },
  {
   "cell_type": "code",
   "execution_count": 227,
   "id": "7acb878c",
   "metadata": {},
   "outputs": [
    {
     "data": {
      "text/html": [
       "<div>\n",
       "<style scoped>\n",
       "    .dataframe tbody tr th:only-of-type {\n",
       "        vertical-align: middle;\n",
       "    }\n",
       "\n",
       "    .dataframe tbody tr th {\n",
       "        vertical-align: top;\n",
       "    }\n",
       "\n",
       "    .dataframe thead th {\n",
       "        text-align: right;\n",
       "    }\n",
       "</style>\n",
       "<table border=\"1\" class=\"dataframe\">\n",
       "  <thead>\n",
       "    <tr style=\"text-align: right;\">\n",
       "      <th></th>\n",
       "      <th>feature</th>\n",
       "      <th>VIF</th>\n",
       "    </tr>\n",
       "  </thead>\n",
       "  <tbody>\n",
       "    <tr>\n",
       "      <th>0</th>\n",
       "      <td>stub_name_num</td>\n",
       "      <td>12.57</td>\n",
       "    </tr>\n",
       "    <tr>\n",
       "      <th>1</th>\n",
       "      <td>stub_label_num</td>\n",
       "      <td>12.43</td>\n",
       "    </tr>\n",
       "    <tr>\n",
       "      <th>4</th>\n",
       "      <td>estimate</td>\n",
       "      <td>1.11</td>\n",
       "    </tr>\n",
       "    <tr>\n",
       "      <th>3</th>\n",
       "      <td>age_num</td>\n",
       "      <td>1.09</td>\n",
       "    </tr>\n",
       "    <tr>\n",
       "      <th>2</th>\n",
       "      <td>year_num</td>\n",
       "      <td>1.08</td>\n",
       "    </tr>\n",
       "  </tbody>\n",
       "</table>\n",
       "</div>"
      ],
      "text/plain": [
       "          feature    VIF\n",
       "0   stub_name_num  12.57\n",
       "1  stub_label_num  12.43\n",
       "4        estimate   1.11\n",
       "3         age_num   1.09\n",
       "2        year_num   1.08"
      ]
     },
     "execution_count": 227,
     "metadata": {},
     "output_type": "execute_result"
    }
   ],
   "source": [
    "# VIF dataframe \n",
    "vif = pd.DataFrame() \n",
    "vif[\"feature\"] = X_train.columns \n",
    "  \n",
    "# calculating VIF for each feature \n",
    "vif[\"VIF\"] = [variance_inflation_factor(X_train.values, i) \n",
    "                          for i in range(X_train.shape[1])] \n",
    "vif['VIF'] = round(vif['VIF'],2)\n",
    "vif = vif.sort_values(by='VIF', ascending=False)\n",
    "vif"
   ]
  },
  {
   "cell_type": "code",
   "execution_count": 247,
   "id": "81473e44",
   "metadata": {},
   "outputs": [
    {
     "data": {
      "image/png": "[encoded data removed]",
      "text/plain": [
       "<Figure size 640x480 with 2 Axes>"
      ]
     },
     "metadata": {},
     "output_type": "display_data"
    }
   ],
   "source": [
    "# drawing heatmap\n",
    "sns.heatmap(X_train.corr(), annot=True,linewidth=2.4)\n",
    "plt.show()"
   ]
  },
  {
   "cell_type": "code",
   "execution_count": 228,
   "id": "7411b69f",
   "metadata": {},
   "outputs": [
    {
     "data": {
      "text/plain": [
       "array([1, 1, 1, ..., 1, 1, 1], dtype=int64)"
      ]
     },
     "execution_count": 228,
     "metadata": {},
     "output_type": "execute_result"
    }
   ],
   "source": [
    "y_train_pred = lr.predict(X_train)\n",
    "y_train_pred"
   ]
  },
  {
   "cell_type": "markdown",
   "id": "384c6ef4",
   "metadata": {},
   "source": [
    "- As we have only 5 columns so it's good to retain all these without dropping them."
   ]
  },
  {
   "cell_type": "markdown",
   "id": "e4b5c22b",
   "metadata": {},
   "source": [
    "### Evaluation Metrics"
   ]
  },
  {
   "cell_type": "code",
   "execution_count": 229,
   "id": "73a0211c",
   "metadata": {},
   "outputs": [
    {
     "data": {
      "text/plain": [
       "array([[ 407,  161],\n",
       "       [ 357, 3548]], dtype=int64)"
      ]
     },
     "execution_count": 229,
     "metadata": {},
     "output_type": "execute_result"
    }
   ],
   "source": [
    "cm = confusion_matrix(y_train, y_train_pred)\n",
    "cm"
   ]
  },
  {
   "cell_type": "code",
   "execution_count": 230,
   "id": "f8126bad",
   "metadata": {},
   "outputs": [],
   "source": [
    "TP = cm[1,1]\n",
    "TN = cm[0,0]\n",
    "FP = cm[0,1]\n",
    "FN = cm[1,0]"
   ]
  },
  {
   "cell_type": "code",
   "execution_count": 231,
   "id": "f04dac40",
   "metadata": {},
   "outputs": [
    {
     "data": {
      "text/plain": [
       "0.9085787451984635"
      ]
     },
     "execution_count": 231,
     "metadata": {},
     "output_type": "execute_result"
    }
   ],
   "source": [
    "sensitivity = TP/(TP+FN)\n",
    "sensitivity"
   ]
  },
  {
   "cell_type": "code",
   "execution_count": 232,
   "id": "c7f16777",
   "metadata": {},
   "outputs": [
    {
     "data": {
      "text/plain": [
       "0.7165492957746479"
      ]
     },
     "execution_count": 232,
     "metadata": {},
     "output_type": "execute_result"
    }
   ],
   "source": [
    "specificity = TN/(TN+FP)\n",
    "specificity"
   ]
  },
  {
   "cell_type": "code",
   "execution_count": 233,
   "id": "fd9c2b48",
   "metadata": {},
   "outputs": [
    {
     "data": {
      "text/plain": [
       "0.8841940532081377"
      ]
     },
     "execution_count": 233,
     "metadata": {},
     "output_type": "execute_result"
    }
   ],
   "source": [
    "accuracy_score = (TP+TN)/(TP+TN+FN+FP)\n",
    "accuracy_score"
   ]
  },
  {
   "cell_type": "code",
   "execution_count": 234,
   "id": "7cea6599",
   "metadata": {},
   "outputs": [
    {
     "data": {
      "text/plain": [
       "0.873015873015873"
      ]
     },
     "execution_count": 234,
     "metadata": {},
     "output_type": "execute_result"
    }
   ],
   "source": [
    "prevalance = (TP+FN)/(TP+FP+FN+TN)\n",
    "prevalance"
   ]
  },
  {
   "cell_type": "code",
   "execution_count": 235,
   "id": "45d43e62",
   "metadata": {},
   "outputs": [
    {
     "data": {
      "text/plain": [
       "0.12698412698412698"
      ]
     },
     "execution_count": 235,
     "metadata": {},
     "output_type": "execute_result"
    }
   ],
   "source": [
    "Prob_of_true_negative = (TN+FP)/(TN+TP+FN+FP)\n",
    "Prob_of_true_negative"
   ]
  },
  {
   "cell_type": "code",
   "execution_count": 236,
   "id": "17d5b6aa",
   "metadata": {},
   "outputs": [
    {
     "data": {
      "text/plain": [
       "0.8841940532081377"
      ]
     },
     "execution_count": 236,
     "metadata": {},
     "output_type": "execute_result"
    }
   ],
   "source": [
    "true_accuracy = sensitivity * prevalance + specificity * Prob_of_true_negative\n",
    "true_accuracy"
   ]
  },
  {
   "cell_type": "markdown",
   "id": "916506c2",
   "metadata": {},
   "source": [
    "### Predictions on Testing set"
   ]
  },
  {
   "cell_type": "code",
   "execution_count": 237,
   "id": "ea2444b5",
   "metadata": {},
   "outputs": [
    {
     "data": {
      "text/html": [
       "<div>\n",
       "<style scoped>\n",
       "    .dataframe tbody tr th:only-of-type {\n",
       "        vertical-align: middle;\n",
       "    }\n",
       "\n",
       "    .dataframe tbody tr th {\n",
       "        vertical-align: top;\n",
       "    }\n",
       "\n",
       "    .dataframe thead th {\n",
       "        text-align: right;\n",
       "    }\n",
       "</style>\n",
       "<table border=\"1\" class=\"dataframe\">\n",
       "  <thead>\n",
       "    <tr style=\"text-align: right;\">\n",
       "      <th></th>\n",
       "      <th>stub_name_num</th>\n",
       "      <th>stub_label_num</th>\n",
       "      <th>year_num</th>\n",
       "      <th>age_num</th>\n",
       "      <th>estimate</th>\n",
       "    </tr>\n",
       "  </thead>\n",
       "  <tbody>\n",
       "    <tr>\n",
       "      <th>0</th>\n",
       "      <td>0.187761</td>\n",
       "      <td>0.243531</td>\n",
       "      <td>0.432306</td>\n",
       "      <td>1.219421</td>\n",
       "      <td>-0.362299</td>\n",
       "    </tr>\n",
       "    <tr>\n",
       "      <th>1</th>\n",
       "      <td>1.164337</td>\n",
       "      <td>1.389583</td>\n",
       "      <td>-0.374446</td>\n",
       "      <td>0.131242</td>\n",
       "      <td>-1.047909</td>\n",
       "    </tr>\n",
       "    <tr>\n",
       "      <th>2</th>\n",
       "      <td>0.187761</td>\n",
       "      <td>0.296759</td>\n",
       "      <td>-1.019847</td>\n",
       "      <td>0.131242</td>\n",
       "      <td>-0.959759</td>\n",
       "    </tr>\n",
       "    <tr>\n",
       "      <th>3</th>\n",
       "      <td>0.676049</td>\n",
       "      <td>0.838822</td>\n",
       "      <td>0.190280</td>\n",
       "      <td>-1.423299</td>\n",
       "      <td>-1.116470</td>\n",
       "    </tr>\n",
       "    <tr>\n",
       "      <th>4</th>\n",
       "      <td>-0.788815</td>\n",
       "      <td>-0.841192</td>\n",
       "      <td>-1.584574</td>\n",
       "      <td>0.131242</td>\n",
       "      <td>0.754265</td>\n",
       "    </tr>\n",
       "  </tbody>\n",
       "</table>\n",
       "</div>"
      ],
      "text/plain": [
       "   stub_name_num  stub_label_num  year_num   age_num  estimate\n",
       "0       0.187761        0.243531  0.432306  1.219421 -0.362299\n",
       "1       1.164337        1.389583 -0.374446  0.131242 -1.047909\n",
       "2       0.187761        0.296759 -1.019847  0.131242 -0.959759\n",
       "3       0.676049        0.838822  0.190280 -1.423299 -1.116470\n",
       "4      -0.788815       -0.841192 -1.584574  0.131242  0.754265"
      ]
     },
     "execution_count": 237,
     "metadata": {},
     "output_type": "execute_result"
    }
   ],
   "source": [
    "X_test_new = sc.transform(X_test)\n",
    "X_test = pd.DataFrame(X_test_new, columns=X_test.columns)\n",
    "X_test.head()"
   ]
  },
  {
   "cell_type": "code",
   "execution_count": 238,
   "id": "154f33a3",
   "metadata": {},
   "outputs": [
    {
     "data": {
      "text/plain": [
       "array([1, 1, 1, ..., 1, 1, 0], dtype=int64)"
      ]
     },
     "execution_count": 238,
     "metadata": {},
     "output_type": "execute_result"
    }
   ],
   "source": [
    "y_test_pred = lr.predict(X_test)\n",
    "y_test_pred"
   ]
  },
  {
   "cell_type": "code",
   "execution_count": 239,
   "id": "ddad731f",
   "metadata": {},
   "outputs": [
    {
     "data": {
      "text/plain": [
       "array([[ 151,   93],\n",
       "       [ 201, 1472]], dtype=int64)"
      ]
     },
     "execution_count": 239,
     "metadata": {},
     "output_type": "execute_result"
    }
   ],
   "source": [
    "cm = confusion_matrix(y_test, y_test_pred)\n",
    "cm"
   ]
  },
  {
   "cell_type": "code",
   "execution_count": 240,
   "id": "95021744",
   "metadata": {},
   "outputs": [],
   "source": [
    "TP = cm[1,1]\n",
    "TN = cm[0,0]\n",
    "FP = cm[0,1]\n",
    "FN = cm[1,0]"
   ]
  },
  {
   "cell_type": "code",
   "execution_count": 241,
   "id": "e1e41cfe",
   "metadata": {},
   "outputs": [
    {
     "data": {
      "text/plain": [
       "0.8798565451285116"
      ]
     },
     "execution_count": 241,
     "metadata": {},
     "output_type": "execute_result"
    }
   ],
   "source": [
    "sensitivity = TP/(TP+FN)\n",
    "sensitivity"
   ]
  },
  {
   "cell_type": "code",
   "execution_count": 242,
   "id": "c392857e",
   "metadata": {},
   "outputs": [
    {
     "data": {
      "text/plain": [
       "0.6188524590163934"
      ]
     },
     "execution_count": 242,
     "metadata": {},
     "output_type": "execute_result"
    }
   ],
   "source": [
    "specificity = TN/(TN+FP)\n",
    "specificity"
   ]
  },
  {
   "cell_type": "code",
   "execution_count": 243,
   "id": "d04b58df",
   "metadata": {},
   "outputs": [
    {
     "data": {
      "text/plain": [
       "0.8466353677621283"
      ]
     },
     "execution_count": 243,
     "metadata": {},
     "output_type": "execute_result"
    }
   ],
   "source": [
    "accuracy_score = (TP+TN)/(TP+TN+FN+FP)\n",
    "accuracy_score"
   ]
  },
  {
   "cell_type": "code",
   "execution_count": 244,
   "id": "c6bd4c07",
   "metadata": {},
   "outputs": [
    {
     "data": {
      "text/plain": [
       "0.872717788210746"
      ]
     },
     "execution_count": 244,
     "metadata": {},
     "output_type": "execute_result"
    }
   ],
   "source": [
    "prevalance = (TP+FN)/(TP+FP+FN+TN)\n",
    "prevalance"
   ]
  },
  {
   "cell_type": "code",
   "execution_count": 245,
   "id": "138e276a",
   "metadata": {},
   "outputs": [
    {
     "data": {
      "text/plain": [
       "0.12728221178925403"
      ]
     },
     "execution_count": 245,
     "metadata": {},
     "output_type": "execute_result"
    }
   ],
   "source": [
    "Prob_of_true_negative = (TN+FP)/(TN+TP+FN+FP)\n",
    "Prob_of_true_negative"
   ]
  },
  {
   "cell_type": "code",
   "execution_count": 246,
   "id": "23334e05",
   "metadata": {},
   "outputs": [
    {
     "data": {
      "text/plain": [
       "0.8466353677621282"
      ]
     },
     "execution_count": 246,
     "metadata": {},
     "output_type": "execute_result"
    }
   ],
   "source": [
    "true_accuracy = sensitivity * prevalance + specificity * Prob_of_true_negative\n",
    "true_accuracy"
   ]
  },
  {
   "cell_type": "markdown",
   "id": "ee11cfc2",
   "metadata": {},
   "source": [
    "- Again the overall accuracy of the model on the test set and training set are similar i.e training accuracy is :88% while testing accuracy is : 84% using LogisticRegression()"
   ]
  },
  {
   "cell_type": "markdown",
   "id": "1a7c8034",
   "metadata": {},
   "source": [
    "### Model Building Using DecisionTreeClassifier()"
   ]
  },
  {
   "cell_type": "code",
   "execution_count": 271,
   "id": "9a9773f6",
   "metadata": {},
   "outputs": [
    {
     "data": {
      "text/plain": [
       "{'criterion': 'gini', 'max_depth': 4, 'splitter': 'best'}"
      ]
     },
     "execution_count": 271,
     "metadata": {},
     "output_type": "execute_result"
    }
   ],
   "source": [
    "from sklearn.tree import DecisionTreeClassifier\n",
    "tree = DecisionTreeClassifier()\n",
    "\n",
    "from sklearn.model_selection import GridSearchCV\n",
    "parameters = {'criterion':['gini', 'entropy','log_loss'],\n",
    "             'splitter':['best', 'random'],\n",
    "             'max_depth':[1,2,3,4,5]}\n",
    "\n",
    "grid = GridSearchCV(tree, parameters,cv=5)\n",
    "grid.fit(X_train, y_train)\n",
    "grid.best_params_"
   ]
  },
  {
   "cell_type": "markdown",
   "id": "b8eb5dfb",
   "metadata": {},
   "source": [
    "- These all are the important cretieries that we need to choose to find the optimal results"
   ]
  },
  {
   "cell_type": "code",
   "execution_count": 276,
   "id": "0539572b",
   "metadata": {},
   "outputs": [
    {
     "data": {
      "text/plain": [
       "array([1, 1, 1, ..., 1, 1, 1], dtype=int64)"
      ]
     },
     "execution_count": 276,
     "metadata": {},
     "output_type": "execute_result"
    }
   ],
   "source": [
    "y_train_pred = grid.predict(X_train)\n",
    "y_train_pred"
   ]
  },
  {
   "cell_type": "code",
   "execution_count": 277,
   "id": "06c464c9",
   "metadata": {},
   "outputs": [
    {
     "data": {
      "text/plain": [
       "array([[ 111,  133],\n",
       "       [ 116, 1557]], dtype=int64)"
      ]
     },
     "execution_count": 277,
     "metadata": {},
     "output_type": "execute_result"
    }
   ],
   "source": [
    "cm = confusion_matrix(y_test, y_test_pred)\n",
    "cm"
   ]
  },
  {
   "cell_type": "code",
   "execution_count": 278,
   "id": "aaa4a65c",
   "metadata": {},
   "outputs": [],
   "source": [
    "TP = cm[1,1]\n",
    "TN = cm[0,0]\n",
    "FP = cm[0,1]\n",
    "FN = cm[1,0]"
   ]
  },
  {
   "cell_type": "code",
   "execution_count": 279,
   "id": "ef6613ac",
   "metadata": {},
   "outputs": [
    {
     "data": {
      "text/plain": [
       "0.9306634787806336"
      ]
     },
     "execution_count": 279,
     "metadata": {},
     "output_type": "execute_result"
    }
   ],
   "source": [
    "sensitivity = TP/(TP+FN)\n",
    "sensitivity"
   ]
  },
  {
   "cell_type": "code",
   "execution_count": 280,
   "id": "a3e9aab7",
   "metadata": {},
   "outputs": [
    {
     "data": {
      "text/plain": [
       "0.45491803278688525"
      ]
     },
     "execution_count": 280,
     "metadata": {},
     "output_type": "execute_result"
    }
   ],
   "source": [
    "specificity = TN/(TN+FP)\n",
    "specificity"
   ]
  },
  {
   "cell_type": "code",
   "execution_count": 281,
   "id": "22e4527c",
   "metadata": {},
   "outputs": [
    {
     "data": {
      "text/plain": [
       "0.8701095461658842"
      ]
     },
     "execution_count": 281,
     "metadata": {},
     "output_type": "execute_result"
    }
   ],
   "source": [
    "accuracy_score = (TP+TN)/(TP+TN+FN+FP)\n",
    "accuracy_score"
   ]
  },
  {
   "cell_type": "code",
   "execution_count": 282,
   "id": "c6dfef9e",
   "metadata": {},
   "outputs": [
    {
     "data": {
      "text/plain": [
       "0.872717788210746"
      ]
     },
     "execution_count": 282,
     "metadata": {},
     "output_type": "execute_result"
    }
   ],
   "source": [
    "prevalance = (TP+FN)/(TP+FP+FN+TN)\n",
    "prevalance"
   ]
  },
  {
   "cell_type": "code",
   "execution_count": 283,
   "id": "d9fcf6ef",
   "metadata": {},
   "outputs": [
    {
     "data": {
      "text/plain": [
       "0.12728221178925403"
      ]
     },
     "execution_count": 283,
     "metadata": {},
     "output_type": "execute_result"
    }
   ],
   "source": [
    "Prob_of_true_negative = (TN+FP)/(TN+TP+FN+FP)\n",
    "Prob_of_true_negative"
   ]
  },
  {
   "cell_type": "code",
   "execution_count": 284,
   "id": "c5060377",
   "metadata": {},
   "outputs": [
    {
     "data": {
      "text/plain": [
       "0.8701095461658842"
      ]
     },
     "execution_count": 284,
     "metadata": {},
     "output_type": "execute_result"
    }
   ],
   "source": [
    "true_accuracy = sensitivity * prevalance + specificity * Prob_of_true_negative\n",
    "true_accuracy"
   ]
  },
  {
   "cell_type": "markdown",
   "id": "0ad0e82a",
   "metadata": {},
   "source": [
    "### Predictions on test set"
   ]
  },
  {
   "cell_type": "code",
   "execution_count": 273,
   "id": "b09efe85",
   "metadata": {},
   "outputs": [
    {
     "data": {
      "text/plain": [
       "array([1, 1, 1, ..., 1, 1, 0], dtype=int64)"
      ]
     },
     "execution_count": 273,
     "metadata": {},
     "output_type": "execute_result"
    }
   ],
   "source": [
    "y_test_pred = grid.predict(X_test)\n",
    "y_test_pred"
   ]
  },
  {
   "cell_type": "code",
   "execution_count": 285,
   "id": "57a566c0",
   "metadata": {},
   "outputs": [
    {
     "data": {
      "text/plain": [
       "array([[ 111,  133],\n",
       "       [ 116, 1557]], dtype=int64)"
      ]
     },
     "execution_count": 285,
     "metadata": {},
     "output_type": "execute_result"
    }
   ],
   "source": [
    "cm = confusion_matrix(y_test, y_test_pred)\n",
    "cm"
   ]
  },
  {
   "cell_type": "code",
   "execution_count": 286,
   "id": "b205c77c",
   "metadata": {},
   "outputs": [],
   "source": [
    "TP = cm[1,1]\n",
    "TN = cm[0,0]\n",
    "FP = cm[0,1]\n",
    "FN = cm[1,0]"
   ]
  },
  {
   "cell_type": "code",
   "execution_count": 287,
   "id": "513ce30e",
   "metadata": {},
   "outputs": [
    {
     "data": {
      "text/plain": [
       "0.9306634787806336"
      ]
     },
     "execution_count": 287,
     "metadata": {},
     "output_type": "execute_result"
    }
   ],
   "source": [
    "sensitivity = TP/(TP+FN)\n",
    "sensitivity"
   ]
  },
  {
   "cell_type": "code",
   "execution_count": 288,
   "id": "57fc51dd",
   "metadata": {},
   "outputs": [
    {
     "data": {
      "text/plain": [
       "0.45491803278688525"
      ]
     },
     "execution_count": 288,
     "metadata": {},
     "output_type": "execute_result"
    }
   ],
   "source": [
    "specificity = TN/(TN+FP)\n",
    "specificity"
   ]
  },
  {
   "cell_type": "code",
   "execution_count": 289,
   "id": "c5c6c407",
   "metadata": {},
   "outputs": [
    {
     "data": {
      "text/plain": [
       "0.8701095461658842"
      ]
     },
     "execution_count": 289,
     "metadata": {},
     "output_type": "execute_result"
    }
   ],
   "source": [
    "accuracy_score = (TP+TN)/(TP+TN+FN+FP)\n",
    "accuracy_score"
   ]
  },
  {
   "cell_type": "code",
   "execution_count": 291,
   "id": "ea539258",
   "metadata": {},
   "outputs": [
    {
     "data": {
      "text/plain": [
       "0.872717788210746"
      ]
     },
     "execution_count": 291,
     "metadata": {},
     "output_type": "execute_result"
    }
   ],
   "source": [
    "prevalance = (TP+FN)/(TP+FP+FN+TN)\n",
    "prevalance"
   ]
  },
  {
   "cell_type": "code",
   "execution_count": 292,
   "id": "647b970d",
   "metadata": {},
   "outputs": [
    {
     "data": {
      "text/plain": [
       "0.12728221178925403"
      ]
     },
     "execution_count": 292,
     "metadata": {},
     "output_type": "execute_result"
    }
   ],
   "source": [
    "Prob_of_true_negative = (TN+FP)/(TN+TP+FN+FP)\n",
    "Prob_of_true_negative"
   ]
  },
  {
   "cell_type": "code",
   "execution_count": 293,
   "id": "e2dd94b3",
   "metadata": {},
   "outputs": [
    {
     "data": {
      "text/plain": [
       "0.8701095461658842"
      ]
     },
     "execution_count": 293,
     "metadata": {},
     "output_type": "execute_result"
    }
   ],
   "source": [
    "true_accuracy = sensitivity * prevalance + specificity * Prob_of_true_negative\n",
    "true_accuracy"
   ]
  },
  {
   "cell_type": "markdown",
   "id": "287494fc",
   "metadata": {},
   "source": [
    "- Again the overall accuracy of the model on the test set and training set are similar i.e training accuracy is :87% while testing accuracy is : 87% using DecisionTreeClassifier()"
   ]
  }
 ],
 "metadata": {
  "kernelspec": {
   "display_name": "Python 3 (ipykernel)",
   "language": "python",
   "name": "python3"
  },
  "language_info": {
   "codemirror_mode": {
    "name": "ipython",
    "version": 3
   },
   "file_extension": ".py",
   "mimetype": "text/x-python",
   "name": "python",
   "nbconvert_exporter": "python",
   "pygments_lexer": "ipython3",
   "version": "3.11.3"
  }
 },
 "nbformat": 4,
 "nbformat_minor": 5
}
